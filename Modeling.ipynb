{
 "cells": [
  {
   "cell_type": "markdown",
   "metadata": {},
   "source": [
    "# Modeling with CatBoost Classifier\n",
    "\n"
   ]
  },
  {
   "cell_type": "code",
   "execution_count": 1,
   "metadata": {},
   "outputs": [],
   "source": [
    "import pandas as pd\n",
    "import numpy as np\n",
    "from sklearn.model_selection import train_test_split\n",
    "from catboost import CatBoostClassifier\n",
    "from sklearn.metrics import accuracy_score, classification_report\n",
    "\n"
   ]
  },
  {
   "cell_type": "code",
   "execution_count": 2,
   "metadata": {},
   "outputs": [],
   "source": [
    "df = pd.read_csv('/Users/sabrinasayed/Documents/GitHub/Data_Center_Sites/Cleaned Data/Labeled_Data.csv', index_col=0)"
   ]
  },
  {
   "cell_type": "code",
   "execution_count": 3,
   "metadata": {},
   "outputs": [
    {
     "data": {
      "text/html": [
       "<div>\n",
       "<style scoped>\n",
       "    .dataframe tbody tr th:only-of-type {\n",
       "        vertical-align: middle;\n",
       "    }\n",
       "\n",
       "    .dataframe tbody tr th {\n",
       "        vertical-align: top;\n",
       "    }\n",
       "\n",
       "    .dataframe thead th {\n",
       "        text-align: right;\n",
       "    }\n",
       "</style>\n",
       "<table border=\"1\" class=\"dataframe\">\n",
       "  <thead>\n",
       "    <tr style=\"text-align: right;\">\n",
       "      <th></th>\n",
       "      <th>City</th>\n",
       "      <th>State</th>\n",
       "      <th>Total Generation Rank</th>\n",
       "      <th>Electric Generation Rank</th>\n",
       "      <th>Commercial Generation Rank</th>\n",
       "      <th>Capacity Growth Status</th>\n",
       "      <th>CAIDI w/ Major Events</th>\n",
       "      <th>CAIDI w/o Major Events</th>\n",
       "      <th>SAIFI Major Events</th>\n",
       "      <th>Utility Annual Energy Savings (MWh)</th>\n",
       "      <th>...</th>\n",
       "      <th>Utility Annual Incentive Cost ($)</th>\n",
       "      <th>Utility Commercial Avg Life (Yrs)</th>\n",
       "      <th>Regional Electricity Demand</th>\n",
       "      <th>IXP_Count</th>\n",
       "      <th>Total MWh Rank</th>\n",
       "      <th>Purchased Rank</th>\n",
       "      <th>County</th>\n",
       "      <th>Gigabit_Fiber_Coverage</th>\n",
       "      <th>Business_Density</th>\n",
       "      <th>Suitability</th>\n",
       "    </tr>\n",
       "  </thead>\n",
       "  <tbody>\n",
       "    <tr>\n",
       "      <th>0</th>\n",
       "      <td>Anchorage</td>\n",
       "      <td>AK</td>\n",
       "      <td>Low</td>\n",
       "      <td>Low</td>\n",
       "      <td>High</td>\n",
       "      <td>Growing</td>\n",
       "      <td>138.8</td>\n",
       "      <td>137.6</td>\n",
       "      <td>High</td>\n",
       "      <td>Unknown</td>\n",
       "      <td>...</td>\n",
       "      <td>Unknown</td>\n",
       "      <td>Unknown</td>\n",
       "      <td>Moderate</td>\n",
       "      <td>1</td>\n",
       "      <td>High</td>\n",
       "      <td>Moderate</td>\n",
       "      <td>Anchorage Municipality County</td>\n",
       "      <td>Unknown</td>\n",
       "      <td>Unknown</td>\n",
       "      <td>High Suitability</td>\n",
       "    </tr>\n",
       "    <tr>\n",
       "      <th>1</th>\n",
       "      <td>Anchorage</td>\n",
       "      <td>AK</td>\n",
       "      <td>Low</td>\n",
       "      <td>Low</td>\n",
       "      <td>High</td>\n",
       "      <td>Growing</td>\n",
       "      <td>138.8</td>\n",
       "      <td>137.6</td>\n",
       "      <td>High</td>\n",
       "      <td>Unknown</td>\n",
       "      <td>...</td>\n",
       "      <td>Unknown</td>\n",
       "      <td>Unknown</td>\n",
       "      <td>Moderate</td>\n",
       "      <td>1</td>\n",
       "      <td>High</td>\n",
       "      <td>Moderate</td>\n",
       "      <td>Kenai Peninsula County</td>\n",
       "      <td>Unknown</td>\n",
       "      <td>Unknown</td>\n",
       "      <td>High Suitability</td>\n",
       "    </tr>\n",
       "    <tr>\n",
       "      <th>2</th>\n",
       "      <td>Anchorage</td>\n",
       "      <td>AK</td>\n",
       "      <td>Low</td>\n",
       "      <td>Low</td>\n",
       "      <td>High</td>\n",
       "      <td>Growing</td>\n",
       "      <td>138.8</td>\n",
       "      <td>137.6</td>\n",
       "      <td>High</td>\n",
       "      <td>Unknown</td>\n",
       "      <td>...</td>\n",
       "      <td>Unknown</td>\n",
       "      <td>Unknown</td>\n",
       "      <td>Moderate</td>\n",
       "      <td>1</td>\n",
       "      <td>High</td>\n",
       "      <td>Moderate</td>\n",
       "      <td>Kenai Peninsula Borough County</td>\n",
       "      <td>Unknown</td>\n",
       "      <td>Unknown</td>\n",
       "      <td>High Suitability</td>\n",
       "    </tr>\n",
       "    <tr>\n",
       "      <th>3</th>\n",
       "      <td>Montgomery</td>\n",
       "      <td>AL</td>\n",
       "      <td>High</td>\n",
       "      <td>High</td>\n",
       "      <td>Low</td>\n",
       "      <td>Growing</td>\n",
       "      <td>186.9</td>\n",
       "      <td>122.8</td>\n",
       "      <td>Moderate</td>\n",
       "      <td>Low</td>\n",
       "      <td>...</td>\n",
       "      <td>Low</td>\n",
       "      <td>Low</td>\n",
       "      <td>Low</td>\n",
       "      <td>2</td>\n",
       "      <td>Unknown</td>\n",
       "      <td>Unknown</td>\n",
       "      <td>Montgomery County</td>\n",
       "      <td>Moderate</td>\n",
       "      <td>High</td>\n",
       "      <td>High Suitability</td>\n",
       "    </tr>\n",
       "    <tr>\n",
       "      <th>4</th>\n",
       "      <td>Auburn</td>\n",
       "      <td>AL</td>\n",
       "      <td>High</td>\n",
       "      <td>High</td>\n",
       "      <td>Low</td>\n",
       "      <td>Growing</td>\n",
       "      <td>186.9</td>\n",
       "      <td>122.8</td>\n",
       "      <td>Moderate</td>\n",
       "      <td>Low</td>\n",
       "      <td>...</td>\n",
       "      <td>Low</td>\n",
       "      <td>Low</td>\n",
       "      <td>Low</td>\n",
       "      <td>2</td>\n",
       "      <td>Unknown</td>\n",
       "      <td>Unknown</td>\n",
       "      <td>Lee County</td>\n",
       "      <td>Unknown</td>\n",
       "      <td>Unknown</td>\n",
       "      <td>High Suitability</td>\n",
       "    </tr>\n",
       "  </tbody>\n",
       "</table>\n",
       "<p>5 rows × 21 columns</p>\n",
       "</div>"
      ],
      "text/plain": [
       "         City State Total Generation Rank Electric Generation Rank  \\\n",
       "0   Anchorage    AK                   Low                      Low   \n",
       "1   Anchorage    AK                   Low                      Low   \n",
       "2   Anchorage    AK                   Low                      Low   \n",
       "3  Montgomery    AL                  High                     High   \n",
       "4      Auburn    AL                  High                     High   \n",
       "\n",
       "  Commercial Generation Rank Capacity Growth Status  CAIDI w/ Major Events  \\\n",
       "0                       High                Growing                  138.8   \n",
       "1                       High                Growing                  138.8   \n",
       "2                       High                Growing                  138.8   \n",
       "3                        Low                Growing                  186.9   \n",
       "4                        Low                Growing                  186.9   \n",
       "\n",
       "   CAIDI w/o Major Events SAIFI Major Events  \\\n",
       "0                   137.6               High   \n",
       "1                   137.6               High   \n",
       "2                   137.6               High   \n",
       "3                   122.8           Moderate   \n",
       "4                   122.8           Moderate   \n",
       "\n",
       "  Utility Annual Energy Savings (MWh)  ... Utility Annual Incentive Cost ($)  \\\n",
       "0                             Unknown  ...                           Unknown   \n",
       "1                             Unknown  ...                           Unknown   \n",
       "2                             Unknown  ...                           Unknown   \n",
       "3                                 Low  ...                               Low   \n",
       "4                                 Low  ...                               Low   \n",
       "\n",
       "  Utility Commercial Avg Life (Yrs) Regional Electricity Demand IXP_Count  \\\n",
       "0                           Unknown                    Moderate         1   \n",
       "1                           Unknown                    Moderate         1   \n",
       "2                           Unknown                    Moderate         1   \n",
       "3                               Low                         Low         2   \n",
       "4                               Low                         Low         2   \n",
       "\n",
       "   Total MWh Rank Purchased Rank                          County  \\\n",
       "0            High       Moderate   Anchorage Municipality County   \n",
       "1            High       Moderate          Kenai Peninsula County   \n",
       "2            High       Moderate  Kenai Peninsula Borough County   \n",
       "3         Unknown        Unknown               Montgomery County   \n",
       "4         Unknown        Unknown                      Lee County   \n",
       "\n",
       "  Gigabit_Fiber_Coverage Business_Density       Suitability  \n",
       "0                Unknown          Unknown  High Suitability  \n",
       "1                Unknown          Unknown  High Suitability  \n",
       "2                Unknown          Unknown  High Suitability  \n",
       "3               Moderate             High  High Suitability  \n",
       "4                Unknown          Unknown  High Suitability  \n",
       "\n",
       "[5 rows x 21 columns]"
      ]
     },
     "execution_count": 3,
     "metadata": {},
     "output_type": "execute_result"
    }
   ],
   "source": [
    "df.head()"
   ]
  },
  {
   "cell_type": "code",
   "execution_count": 4,
   "metadata": {},
   "outputs": [
    {
     "data": {
      "text/plain": [
       "2403"
      ]
     },
     "execution_count": 4,
     "metadata": {},
     "output_type": "execute_result"
    }
   ],
   "source": [
    "df.duplicated().sum()"
   ]
  },
  {
   "cell_type": "code",
   "execution_count": 5,
   "metadata": {},
   "outputs": [],
   "source": [
    "df.replace('Unknown', np.nan, inplace=True)"
   ]
  },
  {
   "cell_type": "code",
   "execution_count": 6,
   "metadata": {},
   "outputs": [
    {
     "name": "stdout",
     "output_type": "stream",
     "text": [
      "<class 'pandas.core.frame.DataFrame'>\n",
      "Index: 2979 entries, 0 to 2978\n",
      "Data columns (total 21 columns):\n",
      " #   Column                               Non-Null Count  Dtype  \n",
      "---  ------                               --------------  -----  \n",
      " 0   City                                 2979 non-null   object \n",
      " 1   State                                2979 non-null   object \n",
      " 2   Total Generation Rank                2787 non-null   object \n",
      " 3   Electric Generation Rank             2787 non-null   object \n",
      " 4   Commercial Generation Rank           2787 non-null   object \n",
      " 5   Capacity Growth Status               2787 non-null   object \n",
      " 6   CAIDI w/ Major Events                2979 non-null   float64\n",
      " 7   CAIDI w/o Major Events               2979 non-null   float64\n",
      " 8   SAIFI Major Events                   2979 non-null   object \n",
      " 9   Utility Annual Energy Savings (MWh)  2974 non-null   object \n",
      " 10  Utility Peak Demand Savings (MW)     2974 non-null   object \n",
      " 11  Utility Annual Incentive Cost ($)    2974 non-null   object \n",
      " 12  Utility Commercial Avg Life (Yrs)    2974 non-null   object \n",
      " 13  Regional Electricity Demand          2834 non-null   object \n",
      " 14  IXP_Count                            2979 non-null   int64  \n",
      " 15  Total MWh Rank                       1602 non-null   object \n",
      " 16  Purchased Rank                       1602 non-null   object \n",
      " 17  County                               2757 non-null   object \n",
      " 18  Gigabit_Fiber_Coverage               1116 non-null   object \n",
      " 19  Business_Density                     1116 non-null   object \n",
      " 20  Suitability                          2979 non-null   object \n",
      "dtypes: float64(2), int64(1), object(18)\n",
      "memory usage: 512.0+ KB\n"
     ]
    }
   ],
   "source": [
    "df.info()"
   ]
  },
  {
   "cell_type": "code",
   "execution_count": 8,
   "metadata": {},
   "outputs": [
    {
     "name": "stdout",
     "output_type": "stream",
     "text": [
      "<class 'pandas.core.frame.DataFrame'>\n",
      "Index: 2979 entries, 0 to 2978\n",
      "Data columns (total 21 columns):\n",
      " #   Column                               Non-Null Count  Dtype  \n",
      "---  ------                               --------------  -----  \n",
      " 0   City                                 2979 non-null   object \n",
      " 1   State                                2979 non-null   object \n",
      " 2   Total Generation Rank                2787 non-null   object \n",
      " 3   Electric Generation Rank             2787 non-null   object \n",
      " 4   Commercial Generation Rank           2787 non-null   object \n",
      " 5   Capacity Growth Status               2787 non-null   object \n",
      " 6   CAIDI w/ Major Events                2979 non-null   float64\n",
      " 7   CAIDI w/o Major Events               2979 non-null   float64\n",
      " 8   SAIFI Major Events                   2979 non-null   object \n",
      " 9   Utility Annual Energy Savings (MWh)  2974 non-null   object \n",
      " 10  Utility Peak Demand Savings (MW)     2974 non-null   object \n",
      " 11  Utility Annual Incentive Cost ($)    2974 non-null   object \n",
      " 12  Utility Commercial Avg Life (Yrs)    2974 non-null   object \n",
      " 13  Regional Electricity Demand          2834 non-null   object \n",
      " 14  IXP_Count                            2979 non-null   int64  \n",
      " 15  Total MWh Rank                       1602 non-null   object \n",
      " 16  Purchased Rank                       1602 non-null   object \n",
      " 17  County                               2757 non-null   object \n",
      " 18  Gigabit_Fiber_Coverage               2979 non-null   object \n",
      " 19  Business_Density                     1116 non-null   object \n",
      " 20  Suitability                          2979 non-null   object \n",
      "dtypes: float64(2), int64(1), object(18)\n",
      "memory usage: 512.0+ KB\n"
     ]
    }
   ],
   "source": [
    "# Fill missing values using state-city grouping\n",
    "\n",
    "df['Gigabit_Fiber_Coverage'] = df.groupby(['State', 'City'])['Gigabit_Fiber_Coverage'].transform(\n",
    "    lambda x: x.fillna(x.mode()[0] if not x.mode().empty else df['Gigabit_Fiber_Coverage'].mode()[0])\n",
    ")\n",
    "df.info()"
   ]
  },
  {
   "cell_type": "code",
   "execution_count": 10,
   "metadata": {},
   "outputs": [
    {
     "data": {
      "text/plain": [
       "Gigabit_Fiber_Coverage\n",
       "Good         2299\n",
       "Limited       345\n",
       "Excellent     180\n",
       "Moderate      155\n",
       "Name: count, dtype: int64"
      ]
     },
     "execution_count": 10,
     "metadata": {},
     "output_type": "execute_result"
    }
   ],
   "source": [
    "df['Gigabit_Fiber_Coverage'].value_counts()"
   ]
  },
  {
   "cell_type": "code",
   "execution_count": 9,
   "metadata": {},
   "outputs": [
    {
     "name": "stdout",
     "output_type": "stream",
     "text": [
      "<class 'pandas.core.frame.DataFrame'>\n",
      "Index: 2979 entries, 0 to 2978\n",
      "Data columns (total 21 columns):\n",
      " #   Column                               Non-Null Count  Dtype  \n",
      "---  ------                               --------------  -----  \n",
      " 0   City                                 2979 non-null   object \n",
      " 1   State                                2979 non-null   object \n",
      " 2   Total Generation Rank                2787 non-null   object \n",
      " 3   Electric Generation Rank             2787 non-null   object \n",
      " 4   Commercial Generation Rank           2787 non-null   object \n",
      " 5   Capacity Growth Status               2787 non-null   object \n",
      " 6   CAIDI w/ Major Events                2979 non-null   float64\n",
      " 7   CAIDI w/o Major Events               2979 non-null   float64\n",
      " 8   SAIFI Major Events                   2979 non-null   object \n",
      " 9   Utility Annual Energy Savings (MWh)  2974 non-null   object \n",
      " 10  Utility Peak Demand Savings (MW)     2974 non-null   object \n",
      " 11  Utility Annual Incentive Cost ($)    2974 non-null   object \n",
      " 12  Utility Commercial Avg Life (Yrs)    2974 non-null   object \n",
      " 13  Regional Electricity Demand          2834 non-null   object \n",
      " 14  IXP_Count                            2979 non-null   int64  \n",
      " 15  Total MWh Rank                       1602 non-null   object \n",
      " 16  Purchased Rank                       1602 non-null   object \n",
      " 17  County                               2757 non-null   object \n",
      " 18  Gigabit_Fiber_Coverage               2979 non-null   object \n",
      " 19  Business_Density                     2979 non-null   object \n",
      " 20  Suitability                          2979 non-null   object \n",
      "dtypes: float64(2), int64(1), object(18)\n",
      "memory usage: 512.0+ KB\n"
     ]
    }
   ],
   "source": [
    "# Fill missing values for Business Density\n",
    "df['Business_Density'] = df.groupby(['State', 'City'])['Business_Density'].transform(\n",
    "    lambda x: x.fillna(x.mode()[0] if not x.mode().empty else df['Business_Density'].mode()[0])\n",
    ")\n",
    "df.info()"
   ]
  },
  {
   "cell_type": "code",
   "execution_count": 12,
   "metadata": {},
   "outputs": [],
   "source": [
    "df['Business_Density'].value_counts()   # all values are 'High'\n",
    "# Drop Business Density, not enough useful information or variety\n",
    "df.drop(columns=['Business_Density'], inplace=True)"
   ]
  },
  {
   "cell_type": "code",
   "execution_count": 13,
   "metadata": {},
   "outputs": [
    {
     "name": "stdout",
     "output_type": "stream",
     "text": [
      "<class 'pandas.core.frame.DataFrame'>\n",
      "Index: 2979 entries, 0 to 2978\n",
      "Data columns (total 20 columns):\n",
      " #   Column                               Non-Null Count  Dtype  \n",
      "---  ------                               --------------  -----  \n",
      " 0   City                                 2979 non-null   object \n",
      " 1   State                                2979 non-null   object \n",
      " 2   Total Generation Rank                2787 non-null   object \n",
      " 3   Electric Generation Rank             2787 non-null   object \n",
      " 4   Commercial Generation Rank           2787 non-null   object \n",
      " 5   Capacity Growth Status               2787 non-null   object \n",
      " 6   CAIDI w/ Major Events                2979 non-null   float64\n",
      " 7   CAIDI w/o Major Events               2979 non-null   float64\n",
      " 8   SAIFI Major Events                   2979 non-null   object \n",
      " 9   Utility Annual Energy Savings (MWh)  2974 non-null   object \n",
      " 10  Utility Peak Demand Savings (MW)     2974 non-null   object \n",
      " 11  Utility Annual Incentive Cost ($)    2974 non-null   object \n",
      " 12  Utility Commercial Avg Life (Yrs)    2974 non-null   object \n",
      " 13  Regional Electricity Demand          2834 non-null   object \n",
      " 14  IXP_Count                            2979 non-null   int64  \n",
      " 15  Total MWh Rank                       2979 non-null   object \n",
      " 16  Purchased Rank                       1602 non-null   object \n",
      " 17  County                               2757 non-null   object \n",
      " 18  Gigabit_Fiber_Coverage               2979 non-null   object \n",
      " 19  Suitability                          2979 non-null   object \n",
      "dtypes: float64(2), int64(1), object(17)\n",
      "memory usage: 488.7+ KB\n"
     ]
    }
   ],
   "source": [
    "# Fill missing values for Total MWh Rank\n",
    "df['Total MWh Rank'] = df.groupby(['State', 'City'])['Total MWh Rank'].transform(\n",
    "    lambda x: x.fillna(x.mode()[0] if not x.mode().empty else df['Total MWh Rank'].mode()[0])\n",
    ")\n",
    "df.info()"
   ]
  },
  {
   "cell_type": "code",
   "execution_count": 14,
   "metadata": {},
   "outputs": [
    {
     "data": {
      "text/plain": [
       "Total MWh Rank\n",
       "High        2946\n",
       "Moderate      33\n",
       "Name: count, dtype: int64"
      ]
     },
     "execution_count": 14,
     "metadata": {},
     "output_type": "execute_result"
    }
   ],
   "source": [
    "df['Total MWh Rank'].value_counts()"
   ]
  },
  {
   "cell_type": "code",
   "execution_count": 15,
   "metadata": {},
   "outputs": [],
   "source": [
    "# Drop Purchased Rank\n",
    "df.drop(columns=['Purchased Rank'], inplace=True)"
   ]
  },
  {
   "cell_type": "code",
   "execution_count": 16,
   "metadata": {},
   "outputs": [
    {
     "name": "stdout",
     "output_type": "stream",
     "text": [
      "<class 'pandas.core.frame.DataFrame'>\n",
      "Index: 2979 entries, 0 to 2978\n",
      "Data columns (total 19 columns):\n",
      " #   Column                               Non-Null Count  Dtype  \n",
      "---  ------                               --------------  -----  \n",
      " 0   City                                 2979 non-null   object \n",
      " 1   State                                2979 non-null   object \n",
      " 2   Total Generation Rank                2979 non-null   object \n",
      " 3   Electric Generation Rank             2787 non-null   object \n",
      " 4   Commercial Generation Rank           2787 non-null   object \n",
      " 5   Capacity Growth Status               2787 non-null   object \n",
      " 6   CAIDI w/ Major Events                2979 non-null   float64\n",
      " 7   CAIDI w/o Major Events               2979 non-null   float64\n",
      " 8   SAIFI Major Events                   2979 non-null   object \n",
      " 9   Utility Annual Energy Savings (MWh)  2974 non-null   object \n",
      " 10  Utility Peak Demand Savings (MW)     2974 non-null   object \n",
      " 11  Utility Annual Incentive Cost ($)    2974 non-null   object \n",
      " 12  Utility Commercial Avg Life (Yrs)    2974 non-null   object \n",
      " 13  Regional Electricity Demand          2834 non-null   object \n",
      " 14  IXP_Count                            2979 non-null   int64  \n",
      " 15  Total MWh Rank                       2979 non-null   object \n",
      " 16  County                               2757 non-null   object \n",
      " 17  Gigabit_Fiber_Coverage               2979 non-null   object \n",
      " 18  Suitability                          2979 non-null   object \n",
      "dtypes: float64(2), int64(1), object(16)\n",
      "memory usage: 465.5+ KB\n"
     ]
    }
   ],
   "source": [
    "# Fill missing values for Total Generation Rank\n",
    "df['Total Generation Rank'] = df.groupby(['State', 'City'])['Total Generation Rank'].transform(\n",
    "    lambda x: x.fillna(x.mode()[0] if not x.mode().empty else df['Total Generation Rank'].mode()[0])\n",
    ")\n",
    "df.info()"
   ]
  },
  {
   "cell_type": "code",
   "execution_count": 17,
   "metadata": {},
   "outputs": [
    {
     "name": "stdout",
     "output_type": "stream",
     "text": [
      "<class 'pandas.core.frame.DataFrame'>\n",
      "Index: 2979 entries, 0 to 2978\n",
      "Data columns (total 19 columns):\n",
      " #   Column                               Non-Null Count  Dtype  \n",
      "---  ------                               --------------  -----  \n",
      " 0   City                                 2979 non-null   object \n",
      " 1   State                                2979 non-null   object \n",
      " 2   Total Generation Rank                2979 non-null   object \n",
      " 3   Electric Generation Rank             2979 non-null   object \n",
      " 4   Commercial Generation Rank           2787 non-null   object \n",
      " 5   Capacity Growth Status               2787 non-null   object \n",
      " 6   CAIDI w/ Major Events                2979 non-null   float64\n",
      " 7   CAIDI w/o Major Events               2979 non-null   float64\n",
      " 8   SAIFI Major Events                   2979 non-null   object \n",
      " 9   Utility Annual Energy Savings (MWh)  2974 non-null   object \n",
      " 10  Utility Peak Demand Savings (MW)     2974 non-null   object \n",
      " 11  Utility Annual Incentive Cost ($)    2974 non-null   object \n",
      " 12  Utility Commercial Avg Life (Yrs)    2974 non-null   object \n",
      " 13  Regional Electricity Demand          2834 non-null   object \n",
      " 14  IXP_Count                            2979 non-null   int64  \n",
      " 15  Total MWh Rank                       2979 non-null   object \n",
      " 16  County                               2757 non-null   object \n",
      " 17  Gigabit_Fiber_Coverage               2979 non-null   object \n",
      " 18  Suitability                          2979 non-null   object \n",
      "dtypes: float64(2), int64(1), object(16)\n",
      "memory usage: 465.5+ KB\n"
     ]
    }
   ],
   "source": [
    "# Fill missing values for Electric Generation Rank\n",
    "df['Electric Generation Rank'] = df.groupby(['State', 'City'])['Electric Generation Rank'].transform(\n",
    "    lambda x: x.fillna(x.mode()[0] if not x.mode().empty else df['Electric Generation Rank'].mode()[0])\n",
    ")\n",
    "df.info()"
   ]
  },
  {
   "cell_type": "code",
   "execution_count": 24,
   "metadata": {},
   "outputs": [
    {
     "data": {
      "text/plain": [
       "Electric Generation Rank\n",
       "High        2035\n",
       "Moderate     737\n",
       "Low          207\n",
       "Name: count, dtype: int64"
      ]
     },
     "execution_count": 24,
     "metadata": {},
     "output_type": "execute_result"
    }
   ],
   "source": [
    "df['Electric Generation Rank'].value_counts()"
   ]
  },
  {
   "cell_type": "code",
   "execution_count": 18,
   "metadata": {},
   "outputs": [
    {
     "name": "stdout",
     "output_type": "stream",
     "text": [
      "<class 'pandas.core.frame.DataFrame'>\n",
      "Index: 2979 entries, 0 to 2978\n",
      "Data columns (total 19 columns):\n",
      " #   Column                               Non-Null Count  Dtype  \n",
      "---  ------                               --------------  -----  \n",
      " 0   City                                 2979 non-null   object \n",
      " 1   State                                2979 non-null   object \n",
      " 2   Total Generation Rank                2979 non-null   object \n",
      " 3   Electric Generation Rank             2979 non-null   object \n",
      " 4   Commercial Generation Rank           2979 non-null   object \n",
      " 5   Capacity Growth Status               2787 non-null   object \n",
      " 6   CAIDI w/ Major Events                2979 non-null   float64\n",
      " 7   CAIDI w/o Major Events               2979 non-null   float64\n",
      " 8   SAIFI Major Events                   2979 non-null   object \n",
      " 9   Utility Annual Energy Savings (MWh)  2974 non-null   object \n",
      " 10  Utility Peak Demand Savings (MW)     2974 non-null   object \n",
      " 11  Utility Annual Incentive Cost ($)    2974 non-null   object \n",
      " 12  Utility Commercial Avg Life (Yrs)    2974 non-null   object \n",
      " 13  Regional Electricity Demand          2834 non-null   object \n",
      " 14  IXP_Count                            2979 non-null   int64  \n",
      " 15  Total MWh Rank                       2979 non-null   object \n",
      " 16  County                               2757 non-null   object \n",
      " 17  Gigabit_Fiber_Coverage               2979 non-null   object \n",
      " 18  Suitability                          2979 non-null   object \n",
      "dtypes: float64(2), int64(1), object(16)\n",
      "memory usage: 465.5+ KB\n"
     ]
    }
   ],
   "source": [
    "# Fill missing values for Commercial Generation Rank\n",
    "df['Commercial Generation Rank'] = df.groupby(['State', 'City'])['Commercial Generation Rank'].transform(\n",
    "    lambda x: x.fillna(x.mode()[0] if not x.mode().empty else df['Commercial Generation Rank'].mode()[0])\n",
    ")\n",
    "df.info()"
   ]
  },
  {
   "cell_type": "code",
   "execution_count": 23,
   "metadata": {},
   "outputs": [
    {
     "data": {
      "text/plain": [
       "Commercial Generation Rank\n",
       "High        2352\n",
       "Moderate     358\n",
       "Low          269\n",
       "Name: count, dtype: int64"
      ]
     },
     "execution_count": 23,
     "metadata": {},
     "output_type": "execute_result"
    }
   ],
   "source": [
    "df['Commercial Generation Rank'].value_counts()"
   ]
  },
  {
   "cell_type": "code",
   "execution_count": 19,
   "metadata": {},
   "outputs": [
    {
     "name": "stdout",
     "output_type": "stream",
     "text": [
      "<class 'pandas.core.frame.DataFrame'>\n",
      "Index: 2979 entries, 0 to 2978\n",
      "Data columns (total 19 columns):\n",
      " #   Column                               Non-Null Count  Dtype  \n",
      "---  ------                               --------------  -----  \n",
      " 0   City                                 2979 non-null   object \n",
      " 1   State                                2979 non-null   object \n",
      " 2   Total Generation Rank                2979 non-null   object \n",
      " 3   Electric Generation Rank             2979 non-null   object \n",
      " 4   Commercial Generation Rank           2979 non-null   object \n",
      " 5   Capacity Growth Status               2979 non-null   object \n",
      " 6   CAIDI w/ Major Events                2979 non-null   float64\n",
      " 7   CAIDI w/o Major Events               2979 non-null   float64\n",
      " 8   SAIFI Major Events                   2979 non-null   object \n",
      " 9   Utility Annual Energy Savings (MWh)  2974 non-null   object \n",
      " 10  Utility Peak Demand Savings (MW)     2974 non-null   object \n",
      " 11  Utility Annual Incentive Cost ($)    2974 non-null   object \n",
      " 12  Utility Commercial Avg Life (Yrs)    2974 non-null   object \n",
      " 13  Regional Electricity Demand          2834 non-null   object \n",
      " 14  IXP_Count                            2979 non-null   int64  \n",
      " 15  Total MWh Rank                       2979 non-null   object \n",
      " 16  County                               2757 non-null   object \n",
      " 17  Gigabit_Fiber_Coverage               2979 non-null   object \n",
      " 18  Suitability                          2979 non-null   object \n",
      "dtypes: float64(2), int64(1), object(16)\n",
      "memory usage: 465.5+ KB\n"
     ]
    }
   ],
   "source": [
    "# Fill missing values for Capacity Growth Status\n",
    "df['Capacity Growth Status'] = df.groupby(['State', 'City'])['Capacity Growth Status'].transform(\n",
    "    lambda x: x.fillna(x.mode()[0] if not x.mode().empty else df['Capacity Growth Status'].mode()[0])\n",
    ")\n",
    "df.info()"
   ]
  },
  {
   "cell_type": "code",
   "execution_count": 22,
   "metadata": {},
   "outputs": [
    {
     "data": {
      "text/plain": [
       "Capacity Growth Status\n",
       "Shrinking    2111\n",
       "Growing       868\n",
       "Name: count, dtype: int64"
      ]
     },
     "execution_count": 22,
     "metadata": {},
     "output_type": "execute_result"
    }
   ],
   "source": [
    "df['Capacity Growth Status'].value_counts()"
   ]
  },
  {
   "cell_type": "code",
   "execution_count": 20,
   "metadata": {},
   "outputs": [
    {
     "name": "stdout",
     "output_type": "stream",
     "text": [
      "<class 'pandas.core.frame.DataFrame'>\n",
      "Index: 2979 entries, 0 to 2978\n",
      "Data columns (total 19 columns):\n",
      " #   Column                               Non-Null Count  Dtype  \n",
      "---  ------                               --------------  -----  \n",
      " 0   City                                 2979 non-null   object \n",
      " 1   State                                2979 non-null   object \n",
      " 2   Total Generation Rank                2979 non-null   object \n",
      " 3   Electric Generation Rank             2979 non-null   object \n",
      " 4   Commercial Generation Rank           2979 non-null   object \n",
      " 5   Capacity Growth Status               2979 non-null   object \n",
      " 6   CAIDI w/ Major Events                2979 non-null   float64\n",
      " 7   CAIDI w/o Major Events               2979 non-null   float64\n",
      " 8   SAIFI Major Events                   2979 non-null   object \n",
      " 9   Utility Annual Energy Savings (MWh)  2979 non-null   object \n",
      " 10  Utility Peak Demand Savings (MW)     2974 non-null   object \n",
      " 11  Utility Annual Incentive Cost ($)    2974 non-null   object \n",
      " 12  Utility Commercial Avg Life (Yrs)    2974 non-null   object \n",
      " 13  Regional Electricity Demand          2834 non-null   object \n",
      " 14  IXP_Count                            2979 non-null   int64  \n",
      " 15  Total MWh Rank                       2979 non-null   object \n",
      " 16  County                               2757 non-null   object \n",
      " 17  Gigabit_Fiber_Coverage               2979 non-null   object \n",
      " 18  Suitability                          2979 non-null   object \n",
      "dtypes: float64(2), int64(1), object(16)\n",
      "memory usage: 465.5+ KB\n"
     ]
    }
   ],
   "source": [
    "# Fill missing values for Utility Annual Energy Savings (MWh)\n",
    "df['Utility Annual Energy Savings (MWh)'] = df.groupby(['State', 'City'])['Utility Annual Energy Savings (MWh)'].transform(\n",
    "    lambda x: x.fillna(x.mode()[0] if not x.mode().empty else df['Utility Annual Energy Savings (MWh)'].mode()[0])\n",
    ")\n",
    "df.info()"
   ]
  },
  {
   "cell_type": "code",
   "execution_count": 21,
   "metadata": {},
   "outputs": [
    {
     "data": {
      "text/plain": [
       "Utility Annual Energy Savings (MWh)\n",
       "Low         1918\n",
       "High         629\n",
       "Moderate     432\n",
       "Name: count, dtype: int64"
      ]
     },
     "execution_count": 21,
     "metadata": {},
     "output_type": "execute_result"
    }
   ],
   "source": [
    "df['Utility Annual Energy Savings (MWh)'].value_counts()"
   ]
  },
  {
   "cell_type": "code",
   "execution_count": 29,
   "metadata": {},
   "outputs": [
    {
     "name": "stdout",
     "output_type": "stream",
     "text": [
      "<class 'pandas.core.frame.DataFrame'>\n",
      "Index: 2979 entries, 0 to 2978\n",
      "Data columns (total 18 columns):\n",
      " #   Column                               Non-Null Count  Dtype  \n",
      "---  ------                               --------------  -----  \n",
      " 0   City                                 2979 non-null   object \n",
      " 1   State                                2979 non-null   object \n",
      " 2   Total Generation Rank                2979 non-null   object \n",
      " 3   Electric Generation Rank             2979 non-null   object \n",
      " 4   Commercial Generation Rank           2979 non-null   object \n",
      " 5   Capacity Growth Status               2979 non-null   object \n",
      " 6   CAIDI w/ Major Events                2979 non-null   float64\n",
      " 7   CAIDI w/o Major Events               2979 non-null   float64\n",
      " 8   SAIFI Major Events                   2979 non-null   object \n",
      " 9   Utility Annual Energy Savings (MWh)  2979 non-null   object \n",
      " 10  Utility Peak Demand Savings (MW)     2974 non-null   object \n",
      " 11  Utility Annual Incentive Cost ($)    2979 non-null   object \n",
      " 12  Utility Commercial Avg Life (Yrs)    2974 non-null   object \n",
      " 13  Regional Electricity Demand          2979 non-null   object \n",
      " 14  IXP_Count                            2979 non-null   int64  \n",
      " 15  Total MWh Rank                       2979 non-null   object \n",
      " 16  Gigabit_Fiber_Coverage               2979 non-null   object \n",
      " 17  Suitability                          2979 non-null   object \n",
      "dtypes: float64(2), int64(1), object(15)\n",
      "memory usage: 442.2+ KB\n"
     ]
    }
   ],
   "source": [
    "# Fill missing values for Utility Annual Incentive Cost ($)\n",
    "df['Utility Annual Incentive Cost ($)'] = df.groupby(['State', 'City'])['Utility Annual Incentive Cost ($)'].transform(\n",
    "    lambda x: x.fillna(x.mode()[0] if not x.mode().empty else df['Utility Annual Incentive Cost ($)'].mode()[0])\n",
    ")\n",
    "df.info()"
   ]
  },
  {
   "cell_type": "code",
   "execution_count": 30,
   "metadata": {},
   "outputs": [
    {
     "data": {
      "text/plain": [
       "Utility Annual Incentive Cost ($)\n",
       "Low         1530\n",
       "High         739\n",
       "Moderate     710\n",
       "Name: count, dtype: int64"
      ]
     },
     "execution_count": 30,
     "metadata": {},
     "output_type": "execute_result"
    }
   ],
   "source": [
    "\n",
    "df['Utility Annual Incentive Cost ($)'].value_counts()"
   ]
  },
  {
   "cell_type": "code",
   "execution_count": 31,
   "metadata": {},
   "outputs": [
    {
     "name": "stdout",
     "output_type": "stream",
     "text": [
      "<class 'pandas.core.frame.DataFrame'>\n",
      "Index: 2979 entries, 0 to 2978\n",
      "Data columns (total 18 columns):\n",
      " #   Column                               Non-Null Count  Dtype  \n",
      "---  ------                               --------------  -----  \n",
      " 0   City                                 2979 non-null   object \n",
      " 1   State                                2979 non-null   object \n",
      " 2   Total Generation Rank                2979 non-null   object \n",
      " 3   Electric Generation Rank             2979 non-null   object \n",
      " 4   Commercial Generation Rank           2979 non-null   object \n",
      " 5   Capacity Growth Status               2979 non-null   object \n",
      " 6   CAIDI w/ Major Events                2979 non-null   float64\n",
      " 7   CAIDI w/o Major Events               2979 non-null   float64\n",
      " 8   SAIFI Major Events                   2979 non-null   object \n",
      " 9   Utility Annual Energy Savings (MWh)  2979 non-null   object \n",
      " 10  Utility Peak Demand Savings (MW)     2974 non-null   object \n",
      " 11  Utility Annual Incentive Cost ($)    2979 non-null   object \n",
      " 12  Utility Commercial Avg Life (Yrs)    2979 non-null   object \n",
      " 13  Regional Electricity Demand          2979 non-null   object \n",
      " 14  IXP_Count                            2979 non-null   int64  \n",
      " 15  Total MWh Rank                       2979 non-null   object \n",
      " 16  Gigabit_Fiber_Coverage               2979 non-null   object \n",
      " 17  Suitability                          2979 non-null   object \n",
      "dtypes: float64(2), int64(1), object(15)\n",
      "memory usage: 442.2+ KB\n"
     ]
    }
   ],
   "source": [
    "# Fill missing values for Utility Commercial Avg Life (Yrs)\n",
    "df['Utility Commercial Avg Life (Yrs)'] = df.groupby(['State', 'City'])['Utility Commercial Avg Life (Yrs)'].transform(\n",
    "    lambda x: x.fillna(x.mode()[0] if not x.mode().empty else df['Utility Commercial Avg Life (Yrs)'].mode()[0])\n",
    ")\n",
    "df.info()"
   ]
  },
  {
   "cell_type": "code",
   "execution_count": 32,
   "metadata": {},
   "outputs": [
    {
     "data": {
      "text/plain": [
       "Utility Commercial Avg Life (Yrs)\n",
       "Moderate    1870\n",
       "Low          952\n",
       "High         157\n",
       "Name: count, dtype: int64"
      ]
     },
     "execution_count": 32,
     "metadata": {},
     "output_type": "execute_result"
    }
   ],
   "source": [
    "\n",
    "\n",
    "df['Utility Commercial Avg Life (Yrs)'].value_counts()"
   ]
  },
  {
   "cell_type": "code",
   "execution_count": 33,
   "metadata": {},
   "outputs": [
    {
     "name": "stdout",
     "output_type": "stream",
     "text": [
      "<class 'pandas.core.frame.DataFrame'>\n",
      "Index: 2979 entries, 0 to 2978\n",
      "Data columns (total 18 columns):\n",
      " #   Column                               Non-Null Count  Dtype  \n",
      "---  ------                               --------------  -----  \n",
      " 0   City                                 2979 non-null   object \n",
      " 1   State                                2979 non-null   object \n",
      " 2   Total Generation Rank                2979 non-null   object \n",
      " 3   Electric Generation Rank             2979 non-null   object \n",
      " 4   Commercial Generation Rank           2979 non-null   object \n",
      " 5   Capacity Growth Status               2979 non-null   object \n",
      " 6   CAIDI w/ Major Events                2979 non-null   float64\n",
      " 7   CAIDI w/o Major Events               2979 non-null   float64\n",
      " 8   SAIFI Major Events                   2979 non-null   object \n",
      " 9   Utility Annual Energy Savings (MWh)  2979 non-null   object \n",
      " 10  Utility Peak Demand Savings (MW)     2979 non-null   object \n",
      " 11  Utility Annual Incentive Cost ($)    2979 non-null   object \n",
      " 12  Utility Commercial Avg Life (Yrs)    2979 non-null   object \n",
      " 13  Regional Electricity Demand          2979 non-null   object \n",
      " 14  IXP_Count                            2979 non-null   int64  \n",
      " 15  Total MWh Rank                       2979 non-null   object \n",
      " 16  Gigabit_Fiber_Coverage               2979 non-null   object \n",
      " 17  Suitability                          2979 non-null   object \n",
      "dtypes: float64(2), int64(1), object(15)\n",
      "memory usage: 442.2+ KB\n"
     ]
    }
   ],
   "source": [
    "# Fill missing values for Utility Peak Demand Savings (MW)\n",
    "df['Utility Peak Demand Savings (MW)'] = df.groupby(['State', 'City'])['Utility Peak Demand Savings (MW)'].transform(\n",
    "    lambda x: x.fillna(x.mode()[0] if not x.mode().empty else df['Utility Peak Demand Savings (MW)'].mode()[0])\n",
    ")\n",
    "df.info()"
   ]
  },
  {
   "cell_type": "code",
   "execution_count": 34,
   "metadata": {},
   "outputs": [
    {
     "data": {
      "text/plain": [
       "Utility Peak Demand Savings (MW)\n",
       "Low         2085\n",
       "Moderate     591\n",
       "High         303\n",
       "Name: count, dtype: int64"
      ]
     },
     "execution_count": 34,
     "metadata": {},
     "output_type": "execute_result"
    }
   ],
   "source": [
    "\n",
    "\n",
    "df['Utility Peak Demand Savings (MW)'].value_counts()"
   ]
  },
  {
   "cell_type": "code",
   "execution_count": 25,
   "metadata": {},
   "outputs": [
    {
     "name": "stdout",
     "output_type": "stream",
     "text": [
      "<class 'pandas.core.frame.DataFrame'>\n",
      "Index: 2979 entries, 0 to 2978\n",
      "Data columns (total 19 columns):\n",
      " #   Column                               Non-Null Count  Dtype  \n",
      "---  ------                               --------------  -----  \n",
      " 0   City                                 2979 non-null   object \n",
      " 1   State                                2979 non-null   object \n",
      " 2   Total Generation Rank                2979 non-null   object \n",
      " 3   Electric Generation Rank             2979 non-null   object \n",
      " 4   Commercial Generation Rank           2979 non-null   object \n",
      " 5   Capacity Growth Status               2979 non-null   object \n",
      " 6   CAIDI w/ Major Events                2979 non-null   float64\n",
      " 7   CAIDI w/o Major Events               2979 non-null   float64\n",
      " 8   SAIFI Major Events                   2979 non-null   object \n",
      " 9   Utility Annual Energy Savings (MWh)  2979 non-null   object \n",
      " 10  Utility Peak Demand Savings (MW)     2974 non-null   object \n",
      " 11  Utility Annual Incentive Cost ($)    2974 non-null   object \n",
      " 12  Utility Commercial Avg Life (Yrs)    2974 non-null   object \n",
      " 13  Regional Electricity Demand          2979 non-null   object \n",
      " 14  IXP_Count                            2979 non-null   int64  \n",
      " 15  Total MWh Rank                       2979 non-null   object \n",
      " 16  County                               2757 non-null   object \n",
      " 17  Gigabit_Fiber_Coverage               2979 non-null   object \n",
      " 18  Suitability                          2979 non-null   object \n",
      "dtypes: float64(2), int64(1), object(16)\n",
      "memory usage: 465.5+ KB\n"
     ]
    }
   ],
   "source": [
    "# Fill missing values for Regional Electricity Demand\n",
    "df['Regional Electricity Demand'] = df.groupby(['State', 'City'])['Regional Electricity Demand'].transform(\n",
    "    lambda x: x.fillna(x.mode()[0] if not x.mode().empty else df['Regional Electricity Demand'].mode()[0])\n",
    ")\n",
    "df.info()"
   ]
  },
  {
   "cell_type": "code",
   "execution_count": 26,
   "metadata": {},
   "outputs": [
    {
     "data": {
      "text/plain": [
       "Regional Electricity Demand\n",
       "Low         1507\n",
       "Moderate    1089\n",
       "High         383\n",
       "Name: count, dtype: int64"
      ]
     },
     "execution_count": 26,
     "metadata": {},
     "output_type": "execute_result"
    }
   ],
   "source": [
    "\n",
    "df['Regional Electricity Demand'].value_counts()"
   ]
  },
  {
   "cell_type": "code",
   "execution_count": 27,
   "metadata": {},
   "outputs": [],
   "source": [
    "# Drop County column - analysis and prediction will be done at state and city level\n",
    "df.drop(columns=['County'], inplace=True)"
   ]
  },
  {
   "cell_type": "code",
   "execution_count": 35,
   "metadata": {},
   "outputs": [
    {
     "name": "stdout",
     "output_type": "stream",
     "text": [
      "<class 'pandas.core.frame.DataFrame'>\n",
      "Index: 2979 entries, 0 to 2978\n",
      "Data columns (total 18 columns):\n",
      " #   Column                               Non-Null Count  Dtype  \n",
      "---  ------                               --------------  -----  \n",
      " 0   City                                 2979 non-null   object \n",
      " 1   State                                2979 non-null   object \n",
      " 2   Total Generation Rank                2979 non-null   object \n",
      " 3   Electric Generation Rank             2979 non-null   object \n",
      " 4   Commercial Generation Rank           2979 non-null   object \n",
      " 5   Capacity Growth Status               2979 non-null   object \n",
      " 6   CAIDI w/ Major Events                2979 non-null   float64\n",
      " 7   CAIDI w/o Major Events               2979 non-null   float64\n",
      " 8   SAIFI Major Events                   2979 non-null   object \n",
      " 9   Utility Annual Energy Savings (MWh)  2979 non-null   object \n",
      " 10  Utility Peak Demand Savings (MW)     2979 non-null   object \n",
      " 11  Utility Annual Incentive Cost ($)    2979 non-null   object \n",
      " 12  Utility Commercial Avg Life (Yrs)    2979 non-null   object \n",
      " 13  Regional Electricity Demand          2979 non-null   object \n",
      " 14  IXP_Count                            2979 non-null   int64  \n",
      " 15  Total MWh Rank                       2979 non-null   object \n",
      " 16  Gigabit_Fiber_Coverage               2979 non-null   object \n",
      " 17  Suitability                          2979 non-null   object \n",
      "dtypes: float64(2), int64(1), object(15)\n",
      "memory usage: 442.2+ KB\n"
     ]
    }
   ],
   "source": [
    "df.info()"
   ]
  },
  {
   "cell_type": "code",
   "execution_count": 42,
   "metadata": {},
   "outputs": [
    {
     "name": "stdout",
     "output_type": "stream",
     "text": [
      "                  City State Total Generation Rank Electric Generation Rank  \\\n",
      "0            Anchorage    AK                   Low                      Low   \n",
      "3           Montgomery    AL                  High                     High   \n",
      "4               Auburn    AL                  High                     High   \n",
      "7              Phoenix    AZ                  High                     High   \n",
      "8            Flagstaff    AZ                  High                     High   \n",
      "...                ...   ...                   ...                      ...   \n",
      "2845           Seattle    WA                  High                     High   \n",
      "2851           Spokane    WA                  High                     High   \n",
      "2964           Madison    WI              Moderate                 Moderate   \n",
      "2965         Milwaukee    WI              Moderate                 Moderate   \n",
      "2978  South Charleston    WV              Moderate                 Moderate   \n",
      "\n",
      "     Commercial Generation Rank Capacity Growth Status  CAIDI w/ Major Events  \\\n",
      "0                          High                Growing                  138.8   \n",
      "3                           Low                Growing                  186.9   \n",
      "4                           Low                Growing                  186.9   \n",
      "7                      Moderate                Growing                  108.6   \n",
      "8                      Moderate                Growing                  108.6   \n",
      "...                         ...                    ...                    ...   \n",
      "2845                       High              Shrinking                  148.0   \n",
      "2851                       High              Shrinking                  148.0   \n",
      "2964                   Moderate              Shrinking                  208.6   \n",
      "2965                   Moderate              Shrinking                  208.6   \n",
      "2978                        Low                Growing                  319.4   \n",
      "\n",
      "      CAIDI w/o Major Events SAIFI Major Events  \\\n",
      "0                      137.6               High   \n",
      "3                      122.8           Moderate   \n",
      "4                      122.8           Moderate   \n",
      "7                       84.8           Moderate   \n",
      "8                       84.8           Moderate   \n",
      "...                      ...                ...   \n",
      "2845                   143.8           Moderate   \n",
      "2851                   143.8           Moderate   \n",
      "2964                   114.7                Low   \n",
      "2965                   114.7                Low   \n",
      "2978                   206.2               High   \n",
      "\n",
      "     Utility Annual Energy Savings (MWh) Utility Peak Demand Savings (MW)  \\\n",
      "0                                    Low                              Low   \n",
      "3                                    Low                         Moderate   \n",
      "4                                    Low                         Moderate   \n",
      "7                                   High                             High   \n",
      "8                                   High                             High   \n",
      "...                                  ...                              ...   \n",
      "2845                                 Low                              Low   \n",
      "2851                                 Low                              Low   \n",
      "2964                                 Low                              Low   \n",
      "2965                                 Low                              Low   \n",
      "2978                                 Low                              Low   \n",
      "\n",
      "     Utility Annual Incentive Cost ($) Utility Commercial Avg Life (Yrs)  \\\n",
      "0                                  Low                          Moderate   \n",
      "3                                  Low                               Low   \n",
      "4                                  Low                               Low   \n",
      "7                                 High                          Moderate   \n",
      "8                                 High                          Moderate   \n",
      "...                                ...                               ...   \n",
      "2845                               Low                          Moderate   \n",
      "2851                               Low                          Moderate   \n",
      "2964                               Low                          Moderate   \n",
      "2965                               Low                          Moderate   \n",
      "2978                               Low                          Moderate   \n",
      "\n",
      "     Regional Electricity Demand  IXP_Count Total MWh Rank  \\\n",
      "0                       Moderate          1           High   \n",
      "3                            Low          2           High   \n",
      "4                            Low          2           High   \n",
      "7                            Low          8           High   \n",
      "8                            Low          8           High   \n",
      "...                          ...        ...            ...   \n",
      "2845                    Moderate          7           High   \n",
      "2851                    Moderate          7           High   \n",
      "2964                        High          2           High   \n",
      "2965                        High          2           High   \n",
      "2978                         Low          1           High   \n",
      "\n",
      "     Gigabit_Fiber_Coverage       Suitability  \n",
      "0                      Good  High Suitability  \n",
      "3                  Moderate  High Suitability  \n",
      "4                      Good  High Suitability  \n",
      "7                      Good  High Suitability  \n",
      "8                      Good  High Suitability  \n",
      "...                     ...               ...  \n",
      "2845                   Good  High Suitability  \n",
      "2851                Limited  High Suitability  \n",
      "2964                   Good  High Suitability  \n",
      "2965               Moderate  High Suitability  \n",
      "2978                   Good  High Suitability  \n",
      "\n",
      "[95 rows x 18 columns]\n"
     ]
    }
   ],
   "source": [
    "# Check for unique city and state combinations\n",
    "unique_city_state = df.drop_duplicates(subset=['City', 'State'])\n",
    "print(unique_city_state)"
   ]
  },
  {
   "cell_type": "code",
   "execution_count": 53,
   "metadata": {},
   "outputs": [],
   "source": [
    "drop_duplicates = df.drop_duplicates(subset=['City', 'State'])"
   ]
  },
  {
   "cell_type": "markdown",
   "metadata": {},
   "source": [
    "# EDA"
   ]
  },
  {
   "cell_type": "code",
   "execution_count": 49,
   "metadata": {},
   "outputs": [
    {
     "data": {
      "image/png": "[encoded data removed]",
      "text/plain": [
       "<Figure size 1000x600 with 1 Axes>"
      ]
     },
     "metadata": {},
     "output_type": "display_data"
    },
    {
     "name": "stdout",
     "output_type": "stream",
     "text": [
      "\n",
      "Numerical Features Summary:\n",
      "       CAIDI w/ Major Events  CAIDI w/o Major Events    IXP_Count\n",
      "count            2979.000000             2979.000000  2979.000000\n",
      "mean              232.956026              120.133434    14.824773\n",
      "std                91.941527               20.233973     8.871187\n",
      "min               108.300000               84.100000     1.000000\n",
      "25%               165.600000              106.100000     7.000000\n",
      "50%               248.100000              119.400000    18.000000\n",
      "75%               281.500000              140.000000    27.000000\n",
      "max               723.500000              206.200000    27.000000\n"
     ]
    }
   ],
   "source": [
    "import matplotlib.pyplot as plt\n",
    "import seaborn as sns\n",
    "\n",
    "# Check class distribution\n",
    "plt.figure(figsize=(10, 6))\n",
    "df['Suitability'].value_counts().plot(kind='bar')\n",
    "plt.title('Distribution of Suitability Classes')\n",
    "plt.ylabel('Count')\n",
    "plt.xticks(rotation=45)\n",
    "plt.show()\n",
    "\n",
    "# Basic statistics for numerical columns\n",
    "print(\"\\nNumerical Features Summary:\")\n",
    "print(df.describe())"
   ]
  },
  {
   "cell_type": "markdown",
   "metadata": {},
   "source": [
    "# Building the Model: CatBoost Classifier"
   ]
  },
  {
   "cell_type": "code",
   "execution_count": 54,
   "metadata": {},
   "outputs": [],
   "source": [
    "\n",
    "\n",
    "X = drop_duplicates.drop(columns=['Suitability'])\n",
    "y = drop_duplicates['Suitability']\n",
    "categorical_features = X.select_dtypes(include=['object']).columns.tolist()\n",
    "\n",
    "for col in categorical_features:\n",
    "    X[col] = X[col].astype('str')\n",
    "    \n",
    "X_train, X_test, y_train, y_test = train_test_split(X, y, test_size=0.2, random_state=42)\n"
   ]
  },
  {
   "cell_type": "code",
   "execution_count": 55,
   "metadata": {},
   "outputs": [
    {
     "data": {
      "text/plain": [
       "<catboost.core.CatBoostClassifier at 0x124b014d0>"
      ]
     },
     "execution_count": 55,
     "metadata": {},
     "output_type": "execute_result"
    }
   ],
   "source": [
    "model = CatBoostClassifier(iterations=100, \n",
    "                           depth=5, \n",
    "                           learning_rate=0.1, \n",
    "                           loss_function='MultiClass',\n",
    "                           cat_features=categorical_features,\n",
    "                           verbose=False,\n",
    "                           l2_leaf_reg=3,  # Add L2 regularization\n",
    "                           random_strength=1  # Add randomization to split selection\n",
    "                           )\n",
    "\n",
    "model.fit(X_train, y_train)"
   ]
  },
  {
   "cell_type": "code",
   "execution_count": 56,
   "metadata": {},
   "outputs": [
    {
     "name": "stdout",
     "output_type": "stream",
     "text": [
      "\n",
      "Cross-validation scores: [1. 1. 1. 1. 1.]\n",
      "Average CV score: 1.0\n"
     ]
    }
   ],
   "source": [
    "from sklearn.model_selection import cross_val_score\n",
    "\n",
    "cv_scores = cross_val_score(model, X, y, cv=5)\n",
    "print(\"\\nCross-validation scores:\", cv_scores)\n",
    "print(\"Average CV score:\", cv_scores.mean())"
   ]
  },
  {
   "cell_type": "code",
   "execution_count": 47,
   "metadata": {},
   "outputs": [
    {
     "name": "stdout",
     "output_type": "stream",
     "text": [
      "                      precision    recall  f1-score   support\n",
      "\n",
      "    High Suitability       1.00      1.00      1.00       279\n",
      "     Low Suitability       1.00      1.00      1.00       172\n",
      "Moderate Suitability       1.00      1.00      1.00       145\n",
      "\n",
      "            accuracy                           1.00       596\n",
      "           macro avg       1.00      1.00      1.00       596\n",
      "        weighted avg       1.00      1.00      1.00       596\n",
      "\n"
     ]
    }
   ],
   "source": [
    "\n",
    "\n",
    "# Evaluation\n",
    "y_pred = model.predict(X_test)\n",
    "print(classification_report(y_test, y_pred))\n"
   ]
  },
  {
   "cell_type": "code",
   "execution_count": 48,
   "metadata": {},
   "outputs": [
    {
     "name": "stdout",
     "output_type": "stream",
     "text": [
      "\n",
      "Feature Importance:\n",
      "                                feature  importance\n",
      "14                            IXP_Count   67.308118\n",
      "13          Regional Electricity Demand   21.616124\n",
      "7                CAIDI w/o Major Events    6.918488\n",
      "6                 CAIDI w/ Major Events    3.207366\n",
      "3              Electric Generation Rank    0.291831\n",
      "16               Gigabit_Fiber_Coverage    0.141112\n",
      "4            Commercial Generation Rank    0.111469\n",
      "9   Utility Annual Energy Savings (MWh)    0.108658\n",
      "5                Capacity Growth Status    0.086382\n",
      "12    Utility Commercial Avg Life (Yrs)    0.052533\n",
      "2                 Total Generation Rank    0.052058\n",
      "10     Utility Peak Demand Savings (MW)    0.040078\n",
      "8                    SAIFI Major Events    0.027546\n",
      "11    Utility Annual Incentive Cost ($)    0.025665\n",
      "15                       Total MWh Rank    0.012572\n",
      "1                                 State    0.000000\n",
      "0                                  City    0.000000\n"
     ]
    }
   ],
   "source": [
    "# Check feature importance after model training\n",
    "feature_importance = pd.DataFrame({\n",
    "    'feature': X.columns,\n",
    "    'importance': model.feature_importances_\n",
    "}).sort_values('importance', ascending=False)\n",
    "print(\"\\nFeature Importance:\")\n",
    "print(feature_importance)"
   ]
  },
  {
   "cell_type": "code",
   "execution_count": null,
   "metadata": {},
   "outputs": [],
   "source": []
  }
 ],
 "metadata": {
  "kernelspec": {
   "display_name": "Python 3",
   "language": "python",
   "name": "python3"
  },
  "language_info": {
   "codemirror_mode": {
    "name": "ipython",
    "version": 3
   },
   "file_extension": ".py",
   "mimetype": "text/x-python",
   "name": "python",
   "nbconvert_exporter": "python",
   "pygments_lexer": "ipython3",
   "version": "3.11.10"
  }
 },
 "nbformat": 4,
 "nbformat_minor": 2
}
